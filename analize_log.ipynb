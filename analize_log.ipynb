{
 "cells": [
  {
   "cell_type": "markdown",
   "metadata": {},
   "source": [
    "# Notebook that parse the log generated from the training procedure and produce human-friendly plot"
   ]
  },
  {
   "cell_type": "markdown",
   "metadata": {},
   "source": [
    "### Load library and set model code"
   ]
  },
  {
   "cell_type": "code",
   "execution_count": 1,
   "metadata": {},
   "outputs": [],
   "source": [
    "import os\n",
    "import sys\n",
    "import pandas as pd\n",
    "import matplotlib.pyplot as plt\n",
    "import seaborn as sns\n",
    "\n",
    "MODEL_CODE='ESTylev4-Experiment4'"
   ]
  },
  {
   "cell_type": "markdown",
   "metadata": {},
   "source": [
    "### Parse log file"
   ]
  },
  {
   "cell_type": "code",
   "execution_count": 2,
   "metadata": {},
   "outputs": [
    {
     "ename": "AssertionError",
     "evalue": "",
     "output_type": "error",
     "traceback": [
      "\u001b[0;31m---------------------------------------------------------------------------\u001b[0m",
      "\u001b[0;31mAssertionError\u001b[0m                            Traceback (most recent call last)",
      "Cell \u001b[0;32mIn [2], line 3\u001b[0m\n\u001b[1;32m      1\u001b[0m log_file_path\u001b[39m=\u001b[39m(os\u001b[39m.\u001b[39mpath\u001b[39m.\u001b[39mjoin(\u001b[39mf\u001b[39m\u001b[39m\"\u001b[39m\u001b[39m./Models/\u001b[39m\u001b[39m{\u001b[39;00mMODEL_CODE\u001b[39m}\u001b[39;00m\u001b[39m/train.log\u001b[39m\u001b[39m\"\u001b[39m))\n\u001b[0;32m----> 3\u001b[0m \u001b[39massert\u001b[39;00m os\u001b[39m.\u001b[39mpath\u001b[39m.\u001b[39mexists(log_file_path)\n\u001b[1;32m      4\u001b[0m epoc_log \u001b[39m=\u001b[39m \u001b[39mopen\u001b[39m(log_file_path, \u001b[39m'\u001b[39m\u001b[39mr\u001b[39m\u001b[39m'\u001b[39m)\n\u001b[1;32m      5\u001b[0m _ \u001b[39m=\u001b[39m epoc_log\u001b[39m.\u001b[39mreadline() \u001b[39m# Skip 1st row, i cant manage seek() forgive me :*(|)\u001b[39;00m\n",
      "\u001b[0;31mAssertionError\u001b[0m: "
     ]
    }
   ],
   "source": [
    "log_file_path=(os.path.join(f\"./Models/{MODEL_CODE}/train.log\"))\n",
    "\n",
    "assert os.path.exists(log_file_path)\n",
    "epoc_log = open(log_file_path, 'r')\n",
    "_ = epoc_log.readline() # Skip 1st row, i cant manage seek() forgive me :*(|)\n",
    "epoch_counter=1\n",
    "epoch_register=[]\n",
    "for line in epoc_log.readlines():\n",
    "    line = line[30:-1]\n",
    "    if \"-\" in line:\n",
    "        epoch_counter+=1\n",
    "        continue\n",
    "    set_label, value = list(map(lambda element: element.strip(),line.split(\":\")))\n",
    "    epoch_register.append({\"nr_epoch\":epoch_counter,\"set_name\":set,\"loss_name\":set_label,\"value\":float(value)})\n",
    "dataframe = pd.DataFrame(epoch_register)"
   ]
  },
  {
   "cell_type": "markdown",
   "metadata": {},
   "source": [
    "### Produce plot"
   ]
  },
  {
   "cell_type": "code",
   "execution_count": null,
   "metadata": {},
   "outputs": [
    {
     "ename": "ValueError",
     "evalue": "Cannot take a larger sample than population when 'replace=False'",
     "output_type": "error",
     "traceback": [
      "\u001b[0;31m---------------------------------------------------------------------------\u001b[0m",
      "\u001b[0;31mValueError\u001b[0m                                Traceback (most recent call last)",
      "Cell \u001b[0;32mIn [10], line 3\u001b[0m\n\u001b[1;32m      1\u001b[0m \u001b[39mfor\u001b[39;00m index,group \u001b[39min\u001b[39;00m dataframe\u001b[39m.\u001b[39mgroupby([\u001b[39m\"\u001b[39m\u001b[39mset_name\u001b[39m\u001b[39m\"\u001b[39m,\u001b[39m\"\u001b[39m\u001b[39mloss_name\u001b[39m\u001b[39m\"\u001b[39m]):\n\u001b[1;32m      2\u001b[0m     f, ax \u001b[39m=\u001b[39m plt\u001b[39m.\u001b[39msubplots(figsize\u001b[39m=\u001b[39m(\u001b[39m4\u001b[39m,\u001b[39m4\u001b[39m))\n\u001b[0;32m----> 3\u001b[0m     subgroup \u001b[39m=\u001b[39m group\u001b[39m.\u001b[39;49msample(n\u001b[39m=\u001b[39;49m\u001b[39m15\u001b[39;49m)\n\u001b[1;32m      4\u001b[0m     subgroup\u001b[39m=\u001b[39msubgroup\u001b[39m.\u001b[39msort_values(\u001b[39m\"\u001b[39m\u001b[39mnr_epoch\u001b[39m\u001b[39m\"\u001b[39m)\n\u001b[1;32m      5\u001b[0m     plt\u001b[39m.\u001b[39mtitle(\u001b[39mf\u001b[39m\u001b[39m\"\u001b[39m\u001b[39mRappresentazione loss \u001b[39m\u001b[39m{\u001b[39;00mgroup\u001b[39m.\u001b[39miloc[\u001b[39m0\u001b[39m][\u001b[39m'\u001b[39m\u001b[39mloss_name\u001b[39m\u001b[39m'\u001b[39m]\u001b[39m}\u001b[39;00m\u001b[39m\"\u001b[39m)\n",
      "File \u001b[0;32m~/miniconda3/envs/stargan/lib/python3.8/site-packages/pandas/core/generic.py:5773\u001b[0m, in \u001b[0;36mNDFrame.sample\u001b[0;34m(self, n, frac, replace, weights, random_state, axis, ignore_index)\u001b[0m\n\u001b[1;32m   5770\u001b[0m \u001b[39mif\u001b[39;00m weights \u001b[39mis\u001b[39;00m \u001b[39mnot\u001b[39;00m \u001b[39mNone\u001b[39;00m:\n\u001b[1;32m   5771\u001b[0m     weights \u001b[39m=\u001b[39m sample\u001b[39m.\u001b[39mpreprocess_weights(\u001b[39mself\u001b[39m, weights, axis)\n\u001b[0;32m-> 5773\u001b[0m sampled_indices \u001b[39m=\u001b[39m sample\u001b[39m.\u001b[39;49msample(obj_len, size, replace, weights, rs)\n\u001b[1;32m   5774\u001b[0m result \u001b[39m=\u001b[39m \u001b[39mself\u001b[39m\u001b[39m.\u001b[39mtake(sampled_indices, axis\u001b[39m=\u001b[39maxis)\n\u001b[1;32m   5776\u001b[0m \u001b[39mif\u001b[39;00m ignore_index:\n",
      "File \u001b[0;32m~/miniconda3/envs/stargan/lib/python3.8/site-packages/pandas/core/sample.py:150\u001b[0m, in \u001b[0;36msample\u001b[0;34m(obj_len, size, replace, weights, random_state)\u001b[0m\n\u001b[1;32m    147\u001b[0m     \u001b[39melse\u001b[39;00m:\n\u001b[1;32m    148\u001b[0m         \u001b[39mraise\u001b[39;00m \u001b[39mValueError\u001b[39;00m(\u001b[39m\"\u001b[39m\u001b[39mInvalid weights: weights sum to zero\u001b[39m\u001b[39m\"\u001b[39m)\n\u001b[0;32m--> 150\u001b[0m \u001b[39mreturn\u001b[39;00m random_state\u001b[39m.\u001b[39;49mchoice(obj_len, size\u001b[39m=\u001b[39;49msize, replace\u001b[39m=\u001b[39;49mreplace, p\u001b[39m=\u001b[39;49mweights)\u001b[39m.\u001b[39mastype(\n\u001b[1;32m    151\u001b[0m     np\u001b[39m.\u001b[39mintp, copy\u001b[39m=\u001b[39m\u001b[39mFalse\u001b[39;00m\n\u001b[1;32m    152\u001b[0m )\n",
      "File \u001b[0;32mmtrand.pyx:965\u001b[0m, in \u001b[0;36mnumpy.random.mtrand.RandomState.choice\u001b[0;34m()\u001b[0m\n",
      "\u001b[0;31mValueError\u001b[0m: Cannot take a larger sample than population when 'replace=False'"
     ]
    },
    {
     "data": {
      "image/png": "[encoded data removed]",
      "text/plain": [
       "<Figure size 400x400 with 1 Axes>"
      ]
     },
     "metadata": {},
     "output_type": "display_data"
    }
   ],
   "source": [
    "for index,group in dataframe.groupby([\"set_name\",\"loss_name\"]):\n",
    "    f, ax = plt.subplots(figsize=(4,4))\n",
    "    subgroup = group.sample(n=15)\n",
    "    subgroup=subgroup.sort_values(\"nr_epoch\")\n",
    "    plt.title(f\"Rappresentazione loss {group.iloc[0]['loss_name']}\")\n",
    "    sns.lineplot(data=group,x=\"nr_epoch\",y=\"value\")\n",
    "    plt.show()\n",
    "\n"
   ]
  }
 ],
 "metadata": {
  "kernelspec": {
   "display_name": "stargan",
   "language": "python",
   "name": "python3"
  },
  "language_info": {
   "codemirror_mode": {
    "name": "ipython",
    "version": 3
   },
   "file_extension": ".py",
   "mimetype": "text/x-python",
   "name": "python",
   "nbconvert_exporter": "python",
   "pygments_lexer": "ipython3",
   "version": "3.8.13 (default, Oct 21 2022, 23:50:54) \n[GCC 11.2.0]"
  },
  "orig_nbformat": 4,
  "vscode": {
   "interpreter": {
    "hash": "af3ab013e161d7e2071e405d816695dd1dca74efb3c18ca57ddcf9213a3f1219"
   }
  }
 },
 "nbformat": 4,
 "nbformat_minor": 2
}
